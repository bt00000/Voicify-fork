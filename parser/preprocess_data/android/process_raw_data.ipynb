{
 "cells": [
  {
   "cell_type": "code",
   "execution_count": 64,
   "metadata": {
    "collapsed": true,
    "pycharm": {
     "name": "#%%\n"
    }
   },
   "outputs": [],
   "source": [
    "import ast\n",
    "import json\n",
    "\n",
    "import pandas as pd\n",
    "data_path = \"../../preprocess_data/android/user_supplementary_files/raw_test_cases.txt\"\n",
    "\n",
    "action_map = {\"OPEN\": \"OPEN\", \"TAP\": \"PRESS\", \"up\": \"UP\", \"down\": \"DOWN\", \"Left\": \"LEFT\", \"Right\": \"RIGHT\"}\n",
    "\n",
    "test_path = \"../../datasets/android/test.txt\"\n",
    "\n",
    "ui_button_path = '../../preprocess_data/android/user_supplementary_files/ui_button_list.txt'\n",
    "\n",
    "ui_button_f = open(file=ui_button_path, mode='w')\n",
    "\n",
    "test_f = open(file=test_path, mode='w')\n",
    "\n",
    "f = open(file=data_path, mode='r')\n",
    "\n",
    "componet_set = set()\n",
    "\n",
    "for line in f.readlines():\n",
    "\tif line:\n",
    "\t\t#print(line)\n",
    "\t\tline_list = line.split(\"|||\")\n",
    "\t\tutterance = line_list[0]\n",
    "\t\traw_lf = line_list[1].strip()[1:-1]\n",
    "\n",
    "\t\tcomponent_list = ['<pad>'] + [token.lower().strip() for token in line_list[2].strip().split(',') if token.lower().strip()]\n",
    "\t\t#print(utterance)\n",
    "\t\t#print(line_list[1].strip())\n",
    "\t\traw_lf_list = raw_lf.split(':')\n",
    "\t\taction = raw_lf_list[0].strip()\n",
    "\t\tif action in action_map:\n",
    "\t\t\taction = action_map[action]\n",
    "\t\ttarget = raw_lf_list[1].strip()[1:-1]\n",
    "\t\tif target.lower() in action_map:\n",
    "\t\t\t#print(target.lower())\n",
    "\t\t\ttarget = action_map[target.lower()]\n",
    "\t\t\t#print(target)\n",
    "\t\tif action in ['OPEN', 'PRESS']:\n",
    "\t\t\ttarget = \"_\".join(target.split(\" \")).lower()\n",
    "\t\t\tif action == 'OPEN':\n",
    "\t\t\t\ttarget = \"app:\"+target\n",
    "\t\telif action == 'ENTER':\n",
    "\t\t\ttarget = \"' \" + target + \" '\"\n",
    "\t\tlf = \"( \" + action + \" , \" + target + \" )\"\n",
    "\t\t#print(component_list)\n",
    "\t\tcomponet_set.add(str(component_list))\n",
    "\t\ttest_f.write(utterance + '\\t' + lf + '\\t' + str(component_list) + '\\n')\n",
    "\n",
    "\n",
    "for ui_button in componet_set:\n",
    "\tui_button_f.write(str(ui_button) + '\\n')\n",
    "\n",
    "test_f.close()\n",
    "f.close()\n",
    "ui_button_f.close()\n"
   ]
  },
  {
   "cell_type": "code",
   "execution_count": 2,
   "outputs": [],
   "source": [
    "app_path = \"../../preprocess_data/android/user_supplementary_files/app_list.txt\"\n",
    "app_column_file = \"../../preprocess_data/android/user_supplementary_files/app_scfg.txt\"\n",
    "app_f = open(file=app_column_file, mode='w')\n",
    "app_names = open(file=app_path, mode='r')\n",
    "for line in app_names.readlines():\n",
    "\tapp_f.write(\"@app\" + '\\t'+line.strip()+ '\\t' + \"app:\" + \"_\".join(line.strip().split(' ')) + '\\n')\n",
    "app_f.close()\n",
    "app_names.close()"
   ],
   "metadata": {
    "collapsed": false,
    "pycharm": {
     "name": "#%%\n"
    }
   }
  },
  {
   "cell_type": "code",
   "execution_count": 4,
   "outputs": [],
   "source": [
    "import ast\n",
    "component_path = \"../../preprocess_data/android/user_supplementary_files/raw_component.txt\"\n",
    "component_scfg_file = \"../../preprocess_data/android/user_supplementary_files/component_scfg.txt\"\n",
    "componet_f = open(file=component_scfg_file, mode='w')\n",
    "component_names = open(file=component_path, mode='r')\n",
    "component_set = set()\n",
    "for line in component_names.readlines():\n",
    "\t#print(line.split(\":\")[1])\n",
    "\tcomponent_list = ast.literal_eval(line.split(\":\")[1].strip())\n",
    "\tfor com in component_list:\n",
    "\t\tcomponent_set.add(com.strip())\n",
    "\n",
    "for com in component_set:\n",
    "\tcomponet_f.write(\"@component\" + '\\t' + com.strip() + '\\t' + \"component:\" + \"_\".join(com.strip().lower().split(' ')) + '\\n')\n",
    "\n",
    "component_names.close()\n",
    "componet_f.close()"
   ],
   "metadata": {
    "collapsed": false,
    "pycharm": {
     "name": "#%%\n"
    }
   }
  },
  {
   "cell_type": "code",
   "execution_count": 46,
   "outputs": [],
   "source": [
    "text_box_scfg = \"../../preprocess_data/android/user_supplementary_files/textbox_scfg_update.txt\"\n",
    "text_box_list = [\"thanks\", \"hi\", \"ok\",\"sure\", \"calendar\", \"are you ok\", \"game\", \"2021\", \"7843123\", \"random words\", \"pretty sure\", \"czxczgsterwaxdqdsa\", \"write\", \"press\", \"swipe\", \"hello world\", \"help me please\", \"daseqdsada\", \"I am not sure\"]\n",
    "text_box_scfg_f = open(file=text_box_scfg, mode='w')\n",
    "for i in range(len(text_box_list)):\n",
    "\ttext = text_box_list[i]\n",
    "\ttext_box_scfg_f.write(\"@text_box\" + '\\t' + text + '\\t' + \"' \" + text + \" '\" + '\\n')\n",
    "text_box_scfg_f.close()"
   ],
   "metadata": {
    "collapsed": false,
    "pycharm": {
     "name": "#%%\n"
    }
   }
  },
  {
   "cell_type": "code",
   "execution_count": 6,
   "outputs": [
    {
     "name": "stdout",
     "output_type": "stream",
     "text": [
      "settings\n",
      "cooking\n",
      "my recipe\n",
      "start\n",
      "let's go\n",
      "Stop\n",
      "yes\n",
      "ok\n",
      "my account\n",
      "text size\n",
      "next\n",
      "healthy burger\n"
     ]
    }
   ],
   "source": [
    "ui_button_path = \"../../preprocess_data/android/user_supplementary_files/ui_button_list.txt\"\n",
    "ui_button_scfg_path = \"../../preprocess_data/android/user_supplementary_files/ui_button_scfg.txt\"\n",
    "ui_button_f = open(file=ui_button_path, mode='r')\n",
    "ui_button_scfg_f = open(file=ui_button_scfg_path, mode='w')\n",
    "ui_button_set = set()\n",
    "for ui_button_line in ui_button_f.readlines():\n",
    "\t#print(ast.literal_eval(ui_button_line.strip())[1:])\n",
    "\tui_button_set = ui_button_set.union(set(ast.literal_eval(ui_button_line.strip())[1:]))\n",
    "for ui_button in ui_button_set:\n",
    "\tprint(ui_button)\n",
    "\tui_button_scfg_f.write(\"@ui_button\" + '\\t' + ui_button + '\\t' + \"_\".join(ui_button.split(\" \")) + '\\n')\n",
    "ui_button_scfg_f.close()"
   ],
   "metadata": {
    "collapsed": false,
    "pycharm": {
     "name": "#%%\n"
    }
   }
  },
  {
   "cell_type": "code",
   "execution_count": 19,
   "outputs": [],
   "source": [
    "import random\n",
    "\n",
    "\n",
    "def read_ui_button_list(data_filepath):\n",
    "    ui_button_list_list = []\n",
    "    ui_button_dict = {}\n",
    "    with open(data_filepath) as json_file:\n",
    "        cnt = 0\n",
    "        for line in json_file:\n",
    "            ui_list = ast.literal_eval(line)\n",
    "            ui_button_list_list.append(ui_list)\n",
    "\n",
    "            for ui_button in ui_list:\n",
    "                ui_button_str = \"_\".join(ui_button.split(' '))\n",
    "                if ui_button_str in ui_button_dict:\n",
    "                    ui_button_dict[ui_button_str].append(cnt)\n",
    "                else:\n",
    "                    ui_button_dict[ui_button_str] = []\n",
    "                    ui_button_dict[ui_button_str].append(cnt)\n",
    "\n",
    "            cnt += 1\n",
    "    return ui_button_list_list, ui_button_dict\n",
    "\n",
    "ui_button_path = \"../../preprocess_data/android/user_supplementary_files/ui_button_list.txt\"\n",
    "\n",
    "ui_button_list_list, ui_button_dict = read_ui_button_list(ui_button_path)\n",
    "\n",
    "example_path = \"../../preprocess_data/android/user_supplementary_files/andriod_examples.txt\"\n",
    "example_f = open(file=example_path, mode='r')\n",
    "\n",
    "example_with_schema_path = \"../../preprocess_data/android/user_supplementary_files/andriod_examples_with_schema.txt\"\n",
    "example_with_schema_path_f = open(file=example_with_schema_path, mode='w')\n",
    "\n",
    "for e_line in example_f.readlines():\n",
    "\te_line = e_line.strip()\n",
    "\tschema_idx = -1\n",
    "\tfor token in e_line.split('\\t')[1].split(' '):\n",
    "\t\tui_button_token = \" \".join(token.split('_'))\n",
    "\t\tif token in ui_button_dict and \"PRESS\" in e_line.split('\\t')[1]:\n",
    "\t\t\tindex_list = ui_button_dict[token]\n",
    "\t\t\tschema_idx = random.choice(index_list)\n",
    "\n",
    "\tif not schema_idx == -1:\n",
    "\t\tcurrent_schema = ui_button_list_list[schema_idx]\n",
    "\telse:\n",
    "\t\tcurrent_schema = ['<pad>']\n",
    "\n",
    "\texample_with_schema_path_f.write(e_line + '\\t' + str(current_schema) + '\\n')\n",
    "\n",
    "example_f.close()\n",
    "example_with_schema_path_f.close()"
   ],
   "metadata": {
    "collapsed": false,
    "pycharm": {
     "name": "#%%\n"
    }
   }
  },
  {
   "cell_type": "code",
   "execution_count": 86,
   "outputs": [],
   "source": [
    "text_box_scfg = \"../../preprocess_data/android/user_supplementary_files/textbox_scfg_update.txt\"\n",
    "\n",
    "text_source_file_path = \"../../datasets/top/train.tsv\"\n",
    "text_source_file_f = open(file=text_source_file_path, mode='r')\n",
    "\n",
    "text_box_list = []\n",
    "\n",
    "cnt = 0\n",
    "for line in text_source_file_f.readlines():\n",
    "\ttext_box_list.append(line.split('\\t')[0])\n",
    "\tcnt += 1\n",
    "\tif cnt > 100:\n",
    "\t\tbreak\n",
    "\n",
    "text_source_file_f.close()\n",
    "\n",
    "text_box_scfg_f = open(file=text_box_scfg, mode='w')\n",
    "for i in range(len(text_box_list)):\n",
    "\ttext = text_box_list[i]\n",
    "\ttext_box_scfg_f.write(\"@text_box\" + '\\t' + text + '\\t' + \"' \" + text + \" '\" + '\\n')\n",
    "text_box_scfg_f.close()"
   ],
   "metadata": {
    "collapsed": false,
    "pycharm": {
     "name": "#%%\n"
    }
   }
  },
  {
   "cell_type": "code",
   "execution_count": 17,
   "outputs": [
    {
     "ename": "FileNotFoundError",
     "evalue": "[Errno 2] No such file or directory: '/home/chunyangchen/anaconda3/envs/parser/lib/python3.8/site-packages/huggingface_hub-0.0.8-py3.8.egg'",
     "output_type": "error",
     "traceback": [
      "\u001B[0;31m---------------------------------------------------------------------------\u001B[0m",
      "\u001B[0;31mAttributeError\u001B[0m                            Traceback (most recent call last)",
      "File \u001B[0;32m~/anaconda3/envs/parser/lib/python3.8/site-packages/pkg_resources/__init__.py:1844\u001B[0m, in \u001B[0;36mZipProvider._index\u001B[0;34m(self)\u001B[0m\n\u001B[1;32m   1843\u001B[0m \u001B[38;5;28;01mtry\u001B[39;00m:\n\u001B[0;32m-> 1844\u001B[0m     \u001B[38;5;28;01mreturn\u001B[39;00m \u001B[38;5;28;43mself\u001B[39;49m\u001B[38;5;241;43m.\u001B[39;49m\u001B[43m_dirindex\u001B[49m\n\u001B[1;32m   1845\u001B[0m \u001B[38;5;28;01mexcept\u001B[39;00m \u001B[38;5;167;01mAttributeError\u001B[39;00m:\n",
      "\u001B[0;31mAttributeError\u001B[0m: 'EggMetadata' object has no attribute '_dirindex'",
      "\nDuring handling of the above exception, another exception occurred:\n",
      "\u001B[0;31mFileNotFoundError\u001B[0m                         Traceback (most recent call last)",
      "Input \u001B[0;32mIn [17]\u001B[0m, in \u001B[0;36m<cell line: 1>\u001B[0;34m()\u001B[0m\n\u001B[0;32m----> 1\u001B[0m \u001B[38;5;28;01mimport\u001B[39;00m \u001B[38;5;21;01mnlpaug\u001B[39;00m\u001B[38;5;21;01m.\u001B[39;00m\u001B[38;5;21;01maugmenter\u001B[39;00m\u001B[38;5;21;01m.\u001B[39;00m\u001B[38;5;21;01mword\u001B[39;00m \u001B[38;5;28;01mas\u001B[39;00m \u001B[38;5;21;01mnaw\u001B[39;00m\n\u001B[1;32m      2\u001B[0m exp_schema \u001B[38;5;241m=\u001B[39m \u001B[38;5;124m\"\u001B[39m\u001B[38;5;124m/home/chunyangchen/Documents/Data1/Dustin/ui_parser/datasets/android_user/upper_train.txt\u001B[39m\u001B[38;5;124m\"\u001B[39m\n\u001B[1;32m      4\u001B[0m exp_train \u001B[38;5;241m=\u001B[39m \u001B[38;5;124m\"\u001B[39m\u001B[38;5;124m/home/chunyangchen/Documents/Data1/Dustin/ui_parser/datasets/android_user/train.txt\u001B[39m\u001B[38;5;124m\"\u001B[39m\n",
      "File \u001B[0;32m~/anaconda3/envs/parser/lib/python3.8/site-packages/nlpaug/__init__.py:2\u001B[0m, in \u001B[0;36m<module>\u001B[0;34m\u001B[0m\n\u001B[1;32m      1\u001B[0m \u001B[38;5;28;01mfrom\u001B[39;00m \u001B[38;5;21;01m__future__\u001B[39;00m \u001B[38;5;28;01mimport\u001B[39;00m absolute_import\n\u001B[0;32m----> 2\u001B[0m \u001B[38;5;28;01mfrom\u001B[39;00m \u001B[38;5;21;01mnlpaug\u001B[39;00m\u001B[38;5;21;01m.\u001B[39;00m\u001B[38;5;21;01mbase_augmenter\u001B[39;00m \u001B[38;5;28;01mimport\u001B[39;00m \u001B[38;5;241m*\u001B[39m\n\u001B[1;32m      4\u001B[0m __all__ \u001B[38;5;241m=\u001B[39m [\u001B[38;5;124m'\u001B[39m\u001B[38;5;124mbase_augmenter\u001B[39m\u001B[38;5;124m'\u001B[39m]\n\u001B[1;32m      6\u001B[0m __version__ \u001B[38;5;241m=\u001B[39m \u001B[38;5;124m'\u001B[39m\u001B[38;5;124m1.1.11\u001B[39m\u001B[38;5;124m'\u001B[39m\n",
      "File \u001B[0;32m~/anaconda3/envs/parser/lib/python3.8/site-packages/nlpaug/base_augmenter.py:7\u001B[0m, in \u001B[0;36m<module>\u001B[0;34m\u001B[0m\n\u001B[1;32m      4\u001B[0m \u001B[38;5;28;01mimport\u001B[39;00m \u001B[38;5;21;01mpandas\u001B[39;00m \u001B[38;5;28;01mas\u001B[39;00m \u001B[38;5;21;01mpd\u001B[39;00m\n\u001B[1;32m      5\u001B[0m \u001B[38;5;28;01mfrom\u001B[39;00m \u001B[38;5;21;01mmultiprocessing\u001B[39;00m\u001B[38;5;21;01m.\u001B[39;00m\u001B[38;5;21;01mdummy\u001B[39;00m \u001B[38;5;28;01mimport\u001B[39;00m Pool \u001B[38;5;28;01mas\u001B[39;00m ThreadPool\n\u001B[0;32m----> 7\u001B[0m \u001B[38;5;28;01mfrom\u001B[39;00m \u001B[38;5;21;01mnlpaug\u001B[39;00m\u001B[38;5;21;01m.\u001B[39;00m\u001B[38;5;21;01mutil\u001B[39;00m \u001B[38;5;28;01mimport\u001B[39;00m Action, Method, WarningException, WarningName, WarningCode, WarningMessage\n\u001B[1;32m     10\u001B[0m \u001B[38;5;28;01mclass\u001B[39;00m \u001B[38;5;21;01mAugmenter\u001B[39;00m:\n\u001B[1;32m     11\u001B[0m     \u001B[38;5;28;01mdef\u001B[39;00m \u001B[38;5;21m__init__\u001B[39m(\u001B[38;5;28mself\u001B[39m, name, method, action, aug_min, aug_max, aug_p\u001B[38;5;241m=\u001B[39m\u001B[38;5;241m0.1\u001B[39m, device\u001B[38;5;241m=\u001B[39m\u001B[38;5;124m'\u001B[39m\u001B[38;5;124mcpu\u001B[39m\u001B[38;5;124m'\u001B[39m, \n\u001B[1;32m     12\u001B[0m         include_detail\u001B[38;5;241m=\u001B[39m\u001B[38;5;28;01mFalse\u001B[39;00m, verbose\u001B[38;5;241m=\u001B[39m\u001B[38;5;241m0\u001B[39m):\n",
      "File \u001B[0;32m~/anaconda3/envs/parser/lib/python3.8/site-packages/nlpaug/util/__init__.py:9\u001B[0m, in \u001B[0;36m<module>\u001B[0;34m\u001B[0m\n\u001B[1;32m      6\u001B[0m \u001B[38;5;28;01mfrom\u001B[39;00m \u001B[38;5;21;01mnlpaug\u001B[39;00m\u001B[38;5;21;01m.\u001B[39;00m\u001B[38;5;21;01mutil\u001B[39;00m\u001B[38;5;21;01m.\u001B[39;00m\u001B[38;5;21;01mtext\u001B[39;00m \u001B[38;5;28;01mimport\u001B[39;00m \u001B[38;5;241m*\u001B[39m\n\u001B[1;32m      7\u001B[0m \u001B[38;5;28;01mfrom\u001B[39;00m \u001B[38;5;21;01mnlpaug\u001B[39;00m\u001B[38;5;21;01m.\u001B[39;00m\u001B[38;5;21;01mutil\u001B[39;00m\u001B[38;5;21;01m.\u001B[39;00m\u001B[38;5;21;01maudio\u001B[39;00m \u001B[38;5;28;01mimport\u001B[39;00m \u001B[38;5;241m*\u001B[39m\n\u001B[0;32m----> 9\u001B[0m \u001B[38;5;28;01mfrom\u001B[39;00m \u001B[38;5;21;01mnlpaug\u001B[39;00m\u001B[38;5;21;01m.\u001B[39;00m\u001B[38;5;21;01mutil\u001B[39;00m\u001B[38;5;21;01m.\u001B[39;00m\u001B[38;5;21;01mfile\u001B[39;00m \u001B[38;5;28;01mimport\u001B[39;00m \u001B[38;5;241m*\u001B[39m\n\u001B[1;32m     10\u001B[0m \u001B[38;5;28;01mfrom\u001B[39;00m \u001B[38;5;21;01mnlpaug\u001B[39;00m\u001B[38;5;21;01m.\u001B[39;00m\u001B[38;5;21;01mutil\u001B[39;00m\u001B[38;5;21;01m.\u001B[39;00m\u001B[38;5;21;01mdecorator\u001B[39;00m \u001B[38;5;28;01mimport\u001B[39;00m \u001B[38;5;241m*\u001B[39m\n\u001B[1;32m     11\u001B[0m \u001B[38;5;28;01mfrom\u001B[39;00m \u001B[38;5;21;01mnlpaug\u001B[39;00m\u001B[38;5;21;01m.\u001B[39;00m\u001B[38;5;21;01mutil\u001B[39;00m\u001B[38;5;21;01m.\u001B[39;00m\u001B[38;5;21;01mlogger\u001B[39;00m \u001B[38;5;28;01mimport\u001B[39;00m \u001B[38;5;241m*\u001B[39m\n",
      "File \u001B[0;32m~/anaconda3/envs/parser/lib/python3.8/site-packages/nlpaug/util/file/__init__.py:1\u001B[0m, in \u001B[0;36m<module>\u001B[0;34m\u001B[0m\n\u001B[0;32m----> 1\u001B[0m \u001B[38;5;28;01mfrom\u001B[39;00m \u001B[38;5;21;01mnlpaug\u001B[39;00m\u001B[38;5;21;01m.\u001B[39;00m\u001B[38;5;21;01mutil\u001B[39;00m\u001B[38;5;21;01m.\u001B[39;00m\u001B[38;5;21;01mfile\u001B[39;00m\u001B[38;5;21;01m.\u001B[39;00m\u001B[38;5;21;01mdownload\u001B[39;00m \u001B[38;5;28;01mimport\u001B[39;00m \u001B[38;5;241m*\u001B[39m\n\u001B[1;32m      2\u001B[0m \u001B[38;5;28;01mfrom\u001B[39;00m \u001B[38;5;21;01mnlpaug\u001B[39;00m\u001B[38;5;21;01m.\u001B[39;00m\u001B[38;5;21;01mutil\u001B[39;00m\u001B[38;5;21;01m.\u001B[39;00m\u001B[38;5;21;01mfile\u001B[39;00m\u001B[38;5;21;01m.\u001B[39;00m\u001B[38;5;21;01mlibrary\u001B[39;00m \u001B[38;5;28;01mimport\u001B[39;00m \u001B[38;5;241m*\u001B[39m\n\u001B[1;32m      3\u001B[0m \u001B[38;5;28;01mfrom\u001B[39;00m \u001B[38;5;21;01mnlpaug\u001B[39;00m\u001B[38;5;21;01m.\u001B[39;00m\u001B[38;5;21;01mutil\u001B[39;00m\u001B[38;5;21;01m.\u001B[39;00m\u001B[38;5;21;01mfile\u001B[39;00m\u001B[38;5;21;01m.\u001B[39;00m\u001B[38;5;21;01mread\u001B[39;00m \u001B[38;5;28;01mimport\u001B[39;00m \u001B[38;5;241m*\u001B[39m\n",
      "File \u001B[0;32m~/anaconda3/envs/parser/lib/python3.8/site-packages/nlpaug/util/file/download.py:8\u001B[0m, in \u001B[0;36m<module>\u001B[0;34m\u001B[0m\n\u001B[1;32m      5\u001B[0m \u001B[38;5;28;01mimport\u001B[39;00m \u001B[38;5;21;01murllib\u001B[39;00m\n\u001B[1;32m      6\u001B[0m \u001B[38;5;28;01mimport\u001B[39;00m \u001B[38;5;21;01mzipfile\u001B[39;00m\n\u001B[0;32m----> 8\u001B[0m \u001B[38;5;28;01mimport\u001B[39;00m \u001B[38;5;21;01mgdown\u001B[39;00m\n\u001B[1;32m      9\u001B[0m \u001B[38;5;28;01mimport\u001B[39;00m \u001B[38;5;21;01mrequests\u001B[39;00m\n\u001B[1;32m     12\u001B[0m \u001B[38;5;28;01mclass\u001B[39;00m \u001B[38;5;21;01mDownloadUtil\u001B[39;00m:\n",
      "File \u001B[0;32m~/anaconda3/envs/parser/lib/python3.8/site-packages/gdown/__init__.py:12\u001B[0m, in \u001B[0;36m<module>\u001B[0;34m\u001B[0m\n\u001B[1;32m      9\u001B[0m \u001B[38;5;28;01mfrom\u001B[39;00m \u001B[38;5;21;01m.\u001B[39;00m\u001B[38;5;21;01mextractall\u001B[39;00m \u001B[38;5;28;01mimport\u001B[39;00m extractall\n\u001B[1;32m     11\u001B[0m __author__ \u001B[38;5;241m=\u001B[39m \u001B[38;5;124m\"\u001B[39m\u001B[38;5;124mKentaro Wada <www.kentaro.wada@gmail.com>\u001B[39m\u001B[38;5;124m\"\u001B[39m\n\u001B[0;32m---> 12\u001B[0m __version__ \u001B[38;5;241m=\u001B[39m \u001B[43mpkg_resources\u001B[49m\u001B[38;5;241;43m.\u001B[39;49m\u001B[43mget_distribution\u001B[49m\u001B[43m(\u001B[49m\u001B[38;5;124;43m\"\u001B[39;49m\u001B[38;5;124;43mgdown\u001B[39;49m\u001B[38;5;124;43m\"\u001B[39;49m\u001B[43m)\u001B[49m\u001B[38;5;241m.\u001B[39mversion\n",
      "File \u001B[0;32m~/anaconda3/envs/parser/lib/python3.8/site-packages/pkg_resources/__init__.py:477\u001B[0m, in \u001B[0;36mget_distribution\u001B[0;34m(dist)\u001B[0m\n\u001B[1;32m    475\u001B[0m     dist \u001B[38;5;241m=\u001B[39m Requirement\u001B[38;5;241m.\u001B[39mparse(dist)\n\u001B[1;32m    476\u001B[0m \u001B[38;5;28;01mif\u001B[39;00m \u001B[38;5;28misinstance\u001B[39m(dist, Requirement):\n\u001B[0;32m--> 477\u001B[0m     dist \u001B[38;5;241m=\u001B[39m \u001B[43mget_provider\u001B[49m\u001B[43m(\u001B[49m\u001B[43mdist\u001B[49m\u001B[43m)\u001B[49m\n\u001B[1;32m    478\u001B[0m \u001B[38;5;28;01mif\u001B[39;00m \u001B[38;5;129;01mnot\u001B[39;00m \u001B[38;5;28misinstance\u001B[39m(dist, Distribution):\n\u001B[1;32m    479\u001B[0m     \u001B[38;5;28;01mraise\u001B[39;00m \u001B[38;5;167;01mTypeError\u001B[39;00m(\u001B[38;5;124m\"\u001B[39m\u001B[38;5;124mExpected string, Requirement, or Distribution\u001B[39m\u001B[38;5;124m\"\u001B[39m, dist)\n",
      "File \u001B[0;32m~/anaconda3/envs/parser/lib/python3.8/site-packages/pkg_resources/__init__.py:353\u001B[0m, in \u001B[0;36mget_provider\u001B[0;34m(moduleOrReq)\u001B[0m\n\u001B[1;32m    351\u001B[0m \u001B[38;5;124;03m\"\"\"Return an IResourceProvider for the named module or requirement\"\"\"\u001B[39;00m\n\u001B[1;32m    352\u001B[0m \u001B[38;5;28;01mif\u001B[39;00m \u001B[38;5;28misinstance\u001B[39m(moduleOrReq, Requirement):\n\u001B[0;32m--> 353\u001B[0m     \u001B[38;5;28;01mreturn\u001B[39;00m working_set\u001B[38;5;241m.\u001B[39mfind(moduleOrReq) \u001B[38;5;129;01mor\u001B[39;00m \u001B[43mrequire\u001B[49m\u001B[43m(\u001B[49m\u001B[38;5;28;43mstr\u001B[39;49m\u001B[43m(\u001B[49m\u001B[43mmoduleOrReq\u001B[49m\u001B[43m)\u001B[49m\u001B[43m)\u001B[49m[\u001B[38;5;241m0\u001B[39m]\n\u001B[1;32m    354\u001B[0m \u001B[38;5;28;01mtry\u001B[39;00m:\n\u001B[1;32m    355\u001B[0m     module \u001B[38;5;241m=\u001B[39m sys\u001B[38;5;241m.\u001B[39mmodules[moduleOrReq]\n",
      "File \u001B[0;32m~/anaconda3/envs/parser/lib/python3.8/site-packages/pkg_resources/__init__.py:897\u001B[0m, in \u001B[0;36mWorkingSet.require\u001B[0;34m(self, *requirements)\u001B[0m\n\u001B[1;32m    888\u001B[0m \u001B[38;5;28;01mdef\u001B[39;00m \u001B[38;5;21mrequire\u001B[39m(\u001B[38;5;28mself\u001B[39m, \u001B[38;5;241m*\u001B[39mrequirements):\n\u001B[1;32m    889\u001B[0m     \u001B[38;5;124;03m\"\"\"Ensure that distributions matching `requirements` are activated\u001B[39;00m\n\u001B[1;32m    890\u001B[0m \n\u001B[1;32m    891\u001B[0m \u001B[38;5;124;03m    `requirements` must be a string or a (possibly-nested) sequence\u001B[39;00m\n\u001B[0;32m   (...)\u001B[0m\n\u001B[1;32m    895\u001B[0m \u001B[38;5;124;03m    included, even if they were already activated in this working set.\u001B[39;00m\n\u001B[1;32m    896\u001B[0m \u001B[38;5;124;03m    \"\"\"\u001B[39;00m\n\u001B[0;32m--> 897\u001B[0m     needed \u001B[38;5;241m=\u001B[39m \u001B[38;5;28;43mself\u001B[39;49m\u001B[38;5;241;43m.\u001B[39;49m\u001B[43mresolve\u001B[49m\u001B[43m(\u001B[49m\u001B[43mparse_requirements\u001B[49m\u001B[43m(\u001B[49m\u001B[43mrequirements\u001B[49m\u001B[43m)\u001B[49m\u001B[43m)\u001B[49m\n\u001B[1;32m    899\u001B[0m     \u001B[38;5;28;01mfor\u001B[39;00m dist \u001B[38;5;129;01min\u001B[39;00m needed:\n\u001B[1;32m    900\u001B[0m         \u001B[38;5;28mself\u001B[39m\u001B[38;5;241m.\u001B[39madd(dist)\n",
      "File \u001B[0;32m~/anaconda3/envs/parser/lib/python3.8/site-packages/pkg_resources/__init__.py:770\u001B[0m, in \u001B[0;36mWorkingSet.resolve\u001B[0;34m(self, requirements, env, installer, replace_conflicting, extras)\u001B[0m\n\u001B[1;32m    768\u001B[0m \u001B[38;5;28;01mif\u001B[39;00m env \u001B[38;5;129;01mis\u001B[39;00m \u001B[38;5;28;01mNone\u001B[39;00m:\n\u001B[1;32m    769\u001B[0m     \u001B[38;5;28;01mif\u001B[39;00m dist \u001B[38;5;129;01mis\u001B[39;00m \u001B[38;5;28;01mNone\u001B[39;00m:\n\u001B[0;32m--> 770\u001B[0m         env \u001B[38;5;241m=\u001B[39m \u001B[43mEnvironment\u001B[49m\u001B[43m(\u001B[49m\u001B[38;5;28;43mself\u001B[39;49m\u001B[38;5;241;43m.\u001B[39;49m\u001B[43mentries\u001B[49m\u001B[43m)\u001B[49m\n\u001B[1;32m    771\u001B[0m     \u001B[38;5;28;01melse\u001B[39;00m:\n\u001B[1;32m    772\u001B[0m         \u001B[38;5;66;03m# Use an empty environment and workingset to avoid\u001B[39;00m\n\u001B[1;32m    773\u001B[0m         \u001B[38;5;66;03m# any further conflicts with the conflicting\u001B[39;00m\n\u001B[1;32m    774\u001B[0m         \u001B[38;5;66;03m# distribution\u001B[39;00m\n\u001B[1;32m    775\u001B[0m         env \u001B[38;5;241m=\u001B[39m Environment([])\n",
      "File \u001B[0;32m~/anaconda3/envs/parser/lib/python3.8/site-packages/pkg_resources/__init__.py:981\u001B[0m, in \u001B[0;36mEnvironment.__init__\u001B[0;34m(self, search_path, platform, python)\u001B[0m\n\u001B[1;32m    979\u001B[0m \u001B[38;5;28mself\u001B[39m\u001B[38;5;241m.\u001B[39mplatform \u001B[38;5;241m=\u001B[39m platform\n\u001B[1;32m    980\u001B[0m \u001B[38;5;28mself\u001B[39m\u001B[38;5;241m.\u001B[39mpython \u001B[38;5;241m=\u001B[39m python\n\u001B[0;32m--> 981\u001B[0m \u001B[38;5;28;43mself\u001B[39;49m\u001B[38;5;241;43m.\u001B[39;49m\u001B[43mscan\u001B[49m\u001B[43m(\u001B[49m\u001B[43msearch_path\u001B[49m\u001B[43m)\u001B[49m\n",
      "File \u001B[0;32m~/anaconda3/envs/parser/lib/python3.8/site-packages/pkg_resources/__init__.py:1013\u001B[0m, in \u001B[0;36mEnvironment.scan\u001B[0;34m(self, search_path)\u001B[0m\n\u001B[1;32m   1010\u001B[0m     search_path \u001B[38;5;241m=\u001B[39m sys\u001B[38;5;241m.\u001B[39mpath\n\u001B[1;32m   1012\u001B[0m \u001B[38;5;28;01mfor\u001B[39;00m item \u001B[38;5;129;01min\u001B[39;00m search_path:\n\u001B[0;32m-> 1013\u001B[0m     \u001B[38;5;28;01mfor\u001B[39;00m dist \u001B[38;5;129;01min\u001B[39;00m find_distributions(item):\n\u001B[1;32m   1014\u001B[0m         \u001B[38;5;28mself\u001B[39m\u001B[38;5;241m.\u001B[39madd(dist)\n",
      "File \u001B[0;32m~/anaconda3/envs/parser/lib/python3.8/site-packages/pkg_resources/__init__.py:1994\u001B[0m, in \u001B[0;36mfind_eggs_in_zip\u001B[0;34m(importer, path_item, only)\u001B[0m\n\u001B[1;32m   1991\u001B[0m \u001B[38;5;28;01mif\u001B[39;00m only:\n\u001B[1;32m   1992\u001B[0m     \u001B[38;5;66;03m# don't yield nested distros\u001B[39;00m\n\u001B[1;32m   1993\u001B[0m     \u001B[38;5;28;01mreturn\u001B[39;00m\n\u001B[0;32m-> 1994\u001B[0m \u001B[38;5;28;01mfor\u001B[39;00m subitem \u001B[38;5;129;01min\u001B[39;00m \u001B[43mmetadata\u001B[49m\u001B[38;5;241;43m.\u001B[39;49m\u001B[43mresource_listdir\u001B[49m\u001B[43m(\u001B[49m\u001B[38;5;124;43m'\u001B[39;49m\u001B[38;5;124;43m'\u001B[39;49m\u001B[43m)\u001B[49m:\n\u001B[1;32m   1995\u001B[0m     \u001B[38;5;28;01mif\u001B[39;00m _is_egg_path(subitem):\n\u001B[1;32m   1996\u001B[0m         subpath \u001B[38;5;241m=\u001B[39m os\u001B[38;5;241m.\u001B[39mpath\u001B[38;5;241m.\u001B[39mjoin(path_item, subitem)\n",
      "File \u001B[0;32m~/anaconda3/envs/parser/lib/python3.8/site-packages/pkg_resources/__init__.py:1437\u001B[0m, in \u001B[0;36mNullProvider.resource_listdir\u001B[0;34m(self, resource_name)\u001B[0m\n\u001B[1;32m   1436\u001B[0m \u001B[38;5;28;01mdef\u001B[39;00m \u001B[38;5;21mresource_listdir\u001B[39m(\u001B[38;5;28mself\u001B[39m, resource_name):\n\u001B[0;32m-> 1437\u001B[0m     \u001B[38;5;28;01mreturn\u001B[39;00m \u001B[38;5;28;43mself\u001B[39;49m\u001B[38;5;241;43m.\u001B[39;49m\u001B[43m_listdir\u001B[49m\u001B[43m(\u001B[49m\u001B[38;5;28;43mself\u001B[39;49m\u001B[38;5;241;43m.\u001B[39;49m\u001B[43m_fn\u001B[49m\u001B[43m(\u001B[49m\u001B[38;5;28;43mself\u001B[39;49m\u001B[38;5;241;43m.\u001B[39;49m\u001B[43mmodule_path\u001B[49m\u001B[43m,\u001B[49m\u001B[43m \u001B[49m\u001B[43mresource_name\u001B[49m\u001B[43m)\u001B[49m\u001B[43m)\u001B[49m\n",
      "File \u001B[0;32m~/anaconda3/envs/parser/lib/python3.8/site-packages/pkg_resources/__init__.py:1867\u001B[0m, in \u001B[0;36mZipProvider._listdir\u001B[0;34m(self, fspath)\u001B[0m\n\u001B[1;32m   1866\u001B[0m \u001B[38;5;28;01mdef\u001B[39;00m \u001B[38;5;21m_listdir\u001B[39m(\u001B[38;5;28mself\u001B[39m, fspath):\n\u001B[0;32m-> 1867\u001B[0m     \u001B[38;5;28;01mreturn\u001B[39;00m \u001B[38;5;28mlist\u001B[39m(\u001B[38;5;28;43mself\u001B[39;49m\u001B[38;5;241;43m.\u001B[39;49m\u001B[43m_index\u001B[49m\u001B[43m(\u001B[49m\u001B[43m)\u001B[49m\u001B[38;5;241m.\u001B[39mget(\u001B[38;5;28mself\u001B[39m\u001B[38;5;241m.\u001B[39m_zipinfo_name(fspath), ()))\n",
      "File \u001B[0;32m~/anaconda3/envs/parser/lib/python3.8/site-packages/pkg_resources/__init__.py:1847\u001B[0m, in \u001B[0;36mZipProvider._index\u001B[0;34m(self)\u001B[0m\n\u001B[1;32m   1845\u001B[0m \u001B[38;5;28;01mexcept\u001B[39;00m \u001B[38;5;167;01mAttributeError\u001B[39;00m:\n\u001B[1;32m   1846\u001B[0m     ind \u001B[38;5;241m=\u001B[39m {}\n\u001B[0;32m-> 1847\u001B[0m     \u001B[38;5;28;01mfor\u001B[39;00m path \u001B[38;5;129;01min\u001B[39;00m \u001B[38;5;28;43mself\u001B[39;49m\u001B[38;5;241;43m.\u001B[39;49m\u001B[43mzipinfo\u001B[49m:\n\u001B[1;32m   1848\u001B[0m         parts \u001B[38;5;241m=\u001B[39m path\u001B[38;5;241m.\u001B[39msplit(os\u001B[38;5;241m.\u001B[39msep)\n\u001B[1;32m   1849\u001B[0m         \u001B[38;5;28;01mwhile\u001B[39;00m parts:\n",
      "File \u001B[0;32m~/anaconda3/envs/parser/lib/python3.8/site-packages/pkg_resources/__init__.py:1737\u001B[0m, in \u001B[0;36mZipProvider.zipinfo\u001B[0;34m(self)\u001B[0m\n\u001B[1;32m   1735\u001B[0m \u001B[38;5;129m@property\u001B[39m\n\u001B[1;32m   1736\u001B[0m \u001B[38;5;28;01mdef\u001B[39;00m \u001B[38;5;21mzipinfo\u001B[39m(\u001B[38;5;28mself\u001B[39m):\n\u001B[0;32m-> 1737\u001B[0m     \u001B[38;5;28;01mreturn\u001B[39;00m \u001B[38;5;28;43mself\u001B[39;49m\u001B[38;5;241;43m.\u001B[39;49m\u001B[43m_zip_manifests\u001B[49m\u001B[38;5;241;43m.\u001B[39;49m\u001B[43mload\u001B[49m\u001B[43m(\u001B[49m\u001B[38;5;28;43mself\u001B[39;49m\u001B[38;5;241;43m.\u001B[39;49m\u001B[43mloader\u001B[49m\u001B[38;5;241;43m.\u001B[39;49m\u001B[43marchive\u001B[49m\u001B[43m)\u001B[49m\n",
      "File \u001B[0;32m~/anaconda3/envs/parser/lib/python3.8/site-packages/pkg_resources/__init__.py:1694\u001B[0m, in \u001B[0;36mMemoizedZipManifests.load\u001B[0;34m(self, path)\u001B[0m\n\u001B[1;32m   1690\u001B[0m \u001B[38;5;124;03m\"\"\"\u001B[39;00m\n\u001B[1;32m   1691\u001B[0m \u001B[38;5;124;03mLoad a manifest at path or return a suitable manifest already loaded.\u001B[39;00m\n\u001B[1;32m   1692\u001B[0m \u001B[38;5;124;03m\"\"\"\u001B[39;00m\n\u001B[1;32m   1693\u001B[0m path \u001B[38;5;241m=\u001B[39m os\u001B[38;5;241m.\u001B[39mpath\u001B[38;5;241m.\u001B[39mnormpath(path)\n\u001B[0;32m-> 1694\u001B[0m mtime \u001B[38;5;241m=\u001B[39m \u001B[43mos\u001B[49m\u001B[38;5;241;43m.\u001B[39;49m\u001B[43mstat\u001B[49m\u001B[43m(\u001B[49m\u001B[43mpath\u001B[49m\u001B[43m)\u001B[49m\u001B[38;5;241m.\u001B[39mst_mtime\n\u001B[1;32m   1696\u001B[0m \u001B[38;5;28;01mif\u001B[39;00m path \u001B[38;5;129;01mnot\u001B[39;00m \u001B[38;5;129;01min\u001B[39;00m \u001B[38;5;28mself\u001B[39m \u001B[38;5;129;01mor\u001B[39;00m \u001B[38;5;28mself\u001B[39m[path]\u001B[38;5;241m.\u001B[39mmtime \u001B[38;5;241m!=\u001B[39m mtime:\n\u001B[1;32m   1697\u001B[0m     manifest \u001B[38;5;241m=\u001B[39m \u001B[38;5;28mself\u001B[39m\u001B[38;5;241m.\u001B[39mbuild(path)\n",
      "\u001B[0;31mFileNotFoundError\u001B[0m: [Errno 2] No such file or directory: '/home/chunyangchen/anaconda3/envs/parser/lib/python3.8/site-packages/huggingface_hub-0.0.8-py3.8.egg'"
     ]
    }
   ],
   "source": [
    "import nlpaug.augmenter.word as naw\n",
    "exp_schema = \"/home/chunyangchen/Documents/Data1/Dustin/ui_parser/datasets/android_user/upper_train.txt\"\n",
    "\n",
    "exp_train = \"/home/chunyangchen/Documents/Data1/Dustin/ui_parser/datasets/android_user/train.txt\"\n",
    "aug = naw.ContextualWordEmbsAug(\n",
    "    model_path='bert-base-uncased', action=\"insert\")\n",
    "#augmented_text = aug.augment(text)\n",
    "\n",
    "exp_train_f = open(file=exp_train, mode='w')\n",
    "\n",
    "exp_schema_f = open(file=exp_schema, mode='r')\n",
    "previous_utter = set()\n",
    "for line in exp_schema_f.readlines():\n",
    "\tline_split = line.split('\\t')\n",
    "\tutter = line_split[0]\n",
    "\tlf = line_split[1]\n",
    "\tschema = line_split[2]\n",
    "\tif not utter in previous_utter:\n",
    "\t\texp_train_f.write(utter + '\\t' + lf  +  '\\t' + schema )\n",
    "\tprevious_utter.add(utter)\n",
    "\tif not utter.lower() in previous_utter:\n",
    "\t\texp_train_f.write(utter.lower() + '\\t' + lf  +  '\\t' + schema )\n",
    "\tprevious_utter.add(utter.lower())\n",
    "\n",
    "\taug_utter = aug.augment(utter)\n",
    "\tif not aug_utter in previous_utter:\n",
    "\t\texp_train_f.write(aug_utter + '\\t' + lf  +  '\\t' + schema )\n",
    "\tprevious_utter.add(aug_utter)\n",
    "\n",
    "exp_train_f.close()\n",
    "exp_schema_f.close()"
   ],
   "metadata": {
    "collapsed": false,
    "pycharm": {
     "name": "#%%\n"
    }
   }
  },
  {
   "cell_type": "code",
   "execution_count": null,
   "outputs": [],
   "source": [],
   "metadata": {
    "collapsed": false,
    "pycharm": {
     "name": "#%%\n"
    }
   }
  }
 ],
 "metadata": {
  "kernelspec": {
   "display_name": "Python 3",
   "language": "python",
   "name": "python3"
  },
  "language_info": {
   "codemirror_mode": {
    "name": "ipython",
    "version": 2
   },
   "file_extension": ".py",
   "mimetype": "text/x-python",
   "name": "python",
   "nbconvert_exporter": "python",
   "pygments_lexer": "ipython2",
   "version": "2.7.6"
  }
 },
 "nbformat": 4,
 "nbformat_minor": 0
}