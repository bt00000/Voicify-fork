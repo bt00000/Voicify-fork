{
 "cells": [
  {
   "cell_type": "code",
   "execution_count": 3,
   "metadata": {
    "collapsed": true,
    "pycharm": {
     "name": "#%%\n"
    }
   },
   "outputs": [],
   "source": [
    "import csv\n",
    "from sklearn.model_selection import train_test_split\n",
    "import pandas as pd\n",
    "\n",
    "data_path = '/home/zlii0182/PycharmProjects/cross_template_parsing/preprocess_data/android/supplementary_files/andriod_examples.txt'\n",
    "data_pd = pd.read_csv(data_path,sep='\\t',header=None)\n",
    "#test_data_pd = test_data_pd[['question_with_var','sql_with_var']]\n",
    "train, test = train_test_split(data_pd,test_size=0.2)\n",
    "train_dump_path = '/home/zlii0182/PycharmProjects/cross_template_parsing/datasets/android/train.txt'\n",
    "test_dump_path = '/home/zlii0182/PycharmProjects/cross_template_parsing/datasets/android/test.txt'\n",
    "train.to_csv(sep='\\t', path_or_buf=train_dump_path, index=False, header=None, quoting=csv.QUOTE_NONE)\n",
    "test.to_csv(sep='\\t', path_or_buf=test_dump_path, index=False, header=None, quoting=csv.QUOTE_NONE)"
   ]
  },
  {
   "cell_type": "code",
   "execution_count": null,
   "outputs": [],
   "source": [
    "data_path = '/home/zlii0182/PycharmProjects/cross_template_parsing/datasets/android/total.txt'\n",
    "data_pd = pd.read_csv(data_path,sep='\\t',header=None)"
   ],
   "metadata": {
    "collapsed": false,
    "pycharm": {
     "name": "#%%\n"
    }
   }
  }
 ],
 "metadata": {
  "kernelspec": {
   "display_name": "Python 3",
   "language": "python",
   "name": "python3"
  },
  "language_info": {
   "codemirror_mode": {
    "name": "ipython",
    "version": 2
   },
   "file_extension": ".py",
   "mimetype": "text/x-python",
   "name": "python",
   "nbconvert_exporter": "python",
   "pygments_lexer": "ipython2",
   "version": "2.7.6"
  }
 },
 "nbformat": 4,
 "nbformat_minor": 0
}